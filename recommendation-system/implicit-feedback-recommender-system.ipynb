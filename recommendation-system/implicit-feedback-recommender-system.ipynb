{
 "cells": [
  {
   "cell_type": "code",
   "execution_count": 44,
   "metadata": {},
   "outputs": [],
   "source": [
    "# What is implicit feedback?\n",
    "\n",
    "# In Part 1, we learned that collaborative filtering is based on the assumption that similar users like similar things. \n",
    "# The user-item matrix, or \"utility matrix\", is the foundation of collaborative filtering. \n",
    "# In the utility matrix, rows represent users and columns represent items.\n",
    "\n",
    "# The cells of the matrix are populated by a given user's degree of preference towards an item, which can come in the form of:\n",
    "\n",
    "# explicit feedback: direct feedback towards an item (e.g., movie ratings which we explored in Part 1)\n",
    "# implicit feedback: indirect behaviour towards an item (e.g., purchase history, browsing history, search behaviour)\n",
    "\n",
    "# Implicit feedback makes assumptions about a user's preference based on their actions towards items. Let's take Netflix for example. \n",
    "# If you binge-watch a show and blaze through all seasons in a week, there's a high chance that you like that show. \n",
    "# However, if you start watching a series and stop halfway through the first episode, there's suspicion to believe that you probably don't like that show.\n",
    "\n",
    "import numpy as np\n",
    "import pandas as pd\n",
    "from scipy.sparse import csr_matrix\n",
    "\n",
    "import implicit\n",
    "\n",
    "import warnings\n",
    "warnings.simplefilter(action='ignore', category=FutureWarning)"
   ]
  },
  {
   "cell_type": "code",
   "execution_count": 45,
   "metadata": {},
   "outputs": [],
   "source": [
    "# Step 2: Load the Data\n",
    "ratings = pd.read_csv(\"data/ml-latest-small/ratings.csv\")\n",
    "movies = pd.read_csv(\"data/ml-latest-small/movies.csv\")"
   ]
  },
  {
   "cell_type": "code",
   "execution_count": 46,
   "metadata": {},
   "outputs": [],
   "source": [
    "# For this implicit feedback tutorial, we'll treat movie ratings as the number of times that a user watched a movie. \n",
    "# For example, if Jane (a user in our database) gave Batman a rating of 1 and Legally Blonde a rating of 5, we'll assume that Jane watched Batman one time and Legally Blonde five times.\n",
    "\n",
    "# Step 3: Transforming the data\n",
    "\n",
    "# user_mapper: maps user id to user index\n",
    "# movie_mapper: maps movie id to movie index\n",
    "# user_inv_mapper: maps user index to user id\n",
    "# movie_inv_mapper: maps movie index to movie id\n",
    "\n",
    "def create_X(df):\n",
    "    \"\"\"\n",
    "    Generates a sparse matrix from ratings dataframe\n",
    "\n",
    "    Args: \n",
    "        df: pandas dataframe\n",
    "\n",
    "    Returns:\n",
    "        X: sparse matrix\n",
    "        user_mapper: dict that maps user indices to user id's\n",
    "        user_inv_mapper: dict that maps movie id's to movie indices\n",
    "        movie_inv_mapper: dict that maps movie indices to movie id's\n",
    "    \"\"\"\n",
    "    N = df['userId'].nunique()\n",
    "    M = df['movieId'].nunique()\n",
    "\n",
    "    user_mapper = dict(zip(np.unique(df['userId']), list(range(N))))\n",
    "    movie_mapper = dict(zip(np.unique(df['movieId']), list(range(M))))\n",
    "\n",
    "    user_inv_mapper = dict(zip(list(range(N)), np.unique(df[\"userId\"])))\n",
    "    movie_inv_mapper = dict(zip(list(range(M)), np.unique(df['movieId'])))\n",
    "\n",
    "    user_index = [user_mapper[i] for i in df['userId']]\n",
    "    movie_index = [movie_mapper[i] for i in df['movieId']]\n",
    "\n",
    "    X = csr_matrix((df['rating'], (movie_index, user_index)), shape=(M,N))\n",
    "\n",
    "    return X, user_mapper, movie_mapper, user_inv_mapper, movie_inv_mapper"
   ]
  },
  {
   "cell_type": "code",
   "execution_count": 47,
   "metadata": {},
   "outputs": [],
   "source": [
    "X, user_mapper, movie_mapper, user_inv_mapper, movie_inv_mapper = create_X(ratings)"
   ]
  },
  {
   "cell_type": "code",
   "execution_count": 48,
   "metadata": {},
   "outputs": [],
   "source": [
    "# Creating movie title mappers\n",
    "\n",
    "# We need to interpret a movie title from its index in the user-item matrix and vice versa. Let's create 2 helper functions that make this interpretation easy:\n",
    "\n",
    "from fuzzywuzzy import process\n",
    "\n",
    "def movie_finder(title):\n",
    "    all_titles = movies['title'].tolist()\n",
    "    closest_match = process.extractOne(title, all_titles)\n",
    "    return closest_match[0]\n",
    "\n",
    "movie_title_mapper = dict(zip(movies['title'], movies['movieId']))\n",
    "movie_title_inv_mapper = dict(zip(movies['movieId'], movies['title']))\n",
    "\n",
    "def get_movie_index(title):\n",
    "    fuzzy_title = movie_finder(title)\n",
    "    movie_id = movie_title_mapper[fuzzy_title]\n",
    "    movie_idx = movie_mapper[movie_id]\n",
    "    return movie_idx\n",
    "\n",
    "def get_movie_title(movie_idx):\n",
    "    movie_id = movie_inv_mapper[movie_idx]\n",
    "    title = movie_title_inv_mapper[movie_id]\n",
    "    return title"
   ]
  },
  {
   "cell_type": "code",
   "execution_count": 49,
   "metadata": {},
   "outputs": [
    {
     "data": {
      "application/vnd.jupyter.widget-view+json": {
       "model_id": "263ebc470777456897c74212a436922f",
       "version_major": 2,
       "version_minor": 0
      },
      "text/plain": [
       "  0%|          | 0/15 [00:00<?, ?it/s]"
      ]
     },
     "metadata": {},
     "output_type": "display_data"
    },
    {
     "name": "stderr",
     "output_type": "stream",
     "text": [
      "/Users/kylestanford/Library/CloudStorage/OneDrive-Partners/Documents/GitHub/Recommendation-System/venv/lib/python3.13/site-packages/implicit/cpu/als.py:163: RuntimeWarning: divide by zero encountered in dot\n",
      "  solver(\n",
      "/Users/kylestanford/Library/CloudStorage/OneDrive-Partners/Documents/GitHub/Recommendation-System/venv/lib/python3.13/site-packages/implicit/cpu/als.py:163: RuntimeWarning: overflow encountered in dot\n",
      "  solver(\n",
      "/Users/kylestanford/Library/CloudStorage/OneDrive-Partners/Documents/GitHub/Recommendation-System/venv/lib/python3.13/site-packages/implicit/cpu/als.py:163: RuntimeWarning: invalid value encountered in dot\n",
      "  solver(\n",
      "/Users/kylestanford/Library/CloudStorage/OneDrive-Partners/Documents/GitHub/Recommendation-System/venv/lib/python3.13/site-packages/implicit/cpu/als.py:170: RuntimeWarning: divide by zero encountered in dot\n",
      "  solver(\n",
      "/Users/kylestanford/Library/CloudStorage/OneDrive-Partners/Documents/GitHub/Recommendation-System/venv/lib/python3.13/site-packages/implicit/cpu/als.py:170: RuntimeWarning: overflow encountered in dot\n",
      "  solver(\n",
      "/Users/kylestanford/Library/CloudStorage/OneDrive-Partners/Documents/GitHub/Recommendation-System/venv/lib/python3.13/site-packages/implicit/cpu/als.py:170: RuntimeWarning: invalid value encountered in dot\n",
      "  solver(\n"
     ]
    }
   ],
   "source": [
    "# Step 4: Building our implicit feedback recommender model\n",
    "\n",
    "# The implicit package is built around a linear algebra technique called matrix factorization), which can help us discover latent features underlying the interactions between users and movies. These latent features give a more compact representation of user tastes and item descriptions. Matrix factorization is particularly useful for very sparse data and can enhance the quality of recommendations. The algorithm works by factorizing the original user-item matrix into two factor matrices:\n",
    "\n",
    "# user-factor matrix (n_users, k)\n",
    "# item-factor matrix (k, n_items)\n",
    "# We are reducing the dimensions of our original matrix into \"taste\" dimensions. We cannot interpret what each latent feature \n",
    "#  represents. However, we could imagine that one latent feature may represent users who like romantic comedies from the 1990s, while another latent feature may represent movies which are independent foreign language films.\n",
    "\n",
    "# In traditional matrix factorization, such as SVD, we would attempt to solve the factorization at once which can be very computationally expensive. As a more practical alternative, we can use a technique called Alternating Least Squares (ALS) instead. With ALS, we solve for one factor matrix at a time:\n",
    "\n",
    "# Step 1: hold user-factor matrix fixed and solve for the item-factor matrix\n",
    "# Step 2: hold item-factor matrix fixed and solve for the user-item matrix\n",
    "# We alternate between Step 1 and 2 above, until the dot product of the item-factor matrix and user-item matrix is approximately equal to the original X (user-item) matrix. This approach is less computationally expensive and can be run in parallel.\n",
    "\n",
    "# The implicit package implements matrix factorization using Alternating Least Squares (see docs here). Let's initiate the model using the AlternatingLeastSquares class.\n",
    "\n",
    "model = implicit.als.AlternatingLeastSquares(factors=50)\n",
    "\n",
    "# This model comes with a couple of hyperparameters that can be tuned to generate optimal results:\n",
    "\n",
    "# factors (k): number of latent factors,\n",
    "# regularization (lambda): prevents the model from overfitting during training\n",
    "# In this tutorial, we'll set k = 50\n",
    "#  and lambda = 0.01\n",
    "#  (the default). In a real-world scenario, I highly recommend tuning these hyperparameters before generating recommendations to generate optimal results.\n",
    "\n",
    "# The next step is to fit our model with our user-item matrix.\n",
    "\n",
    "model.fit(X)"
   ]
  },
  {
   "cell_type": "code",
   "execution_count": 50,
   "metadata": {},
   "outputs": [
    {
     "name": "stderr",
     "output_type": "stream",
     "text": [
      "/Users/kylestanford/Library/CloudStorage/OneDrive-Partners/Documents/GitHub/Recommendation-System/venv/lib/python3.13/site-packages/implicit/cpu/matrix_factorization_base.py:217: RuntimeWarning: divide by zero encountered in dot\n",
      "  ids, scores = topk(\n",
      "/Users/kylestanford/Library/CloudStorage/OneDrive-Partners/Documents/GitHub/Recommendation-System/venv/lib/python3.13/site-packages/implicit/cpu/matrix_factorization_base.py:217: RuntimeWarning: overflow encountered in dot\n",
      "  ids, scores = topk(\n",
      "/Users/kylestanford/Library/CloudStorage/OneDrive-Partners/Documents/GitHub/Recommendation-System/venv/lib/python3.13/site-packages/implicit/cpu/matrix_factorization_base.py:217: RuntimeWarning: invalid value encountered in dot\n",
      "  ids, scores = topk(\n"
     ]
    },
    {
     "data": {
      "text/plain": [
       "(array([314, 187, 167,  26, 284,  28, 308,  35, 553, 516], dtype=int32),\n",
       " array([1.        , 0.5931347 , 0.49845117, 0.48768184, 0.4794307 ,\n",
       "        0.45930648, 0.44614336, 0.42688155, 0.4246078 , 0.4230297 ],\n",
       "       dtype=float32))"
      ]
     },
     "execution_count": 50,
     "metadata": {},
     "output_type": "execute_result"
    }
   ],
   "source": [
    "# Now, let's test out the model's recommendations. \n",
    "# We can use the model's similar_items() method which returns the most relevant movies of a given movie. \n",
    "# We can use our helpful get_movie_index() function to get the movie index of the movie that we're interested in.\n",
    "\n",
    "movie_of_interest = 'forrest gump'\n",
    "\n",
    "movie_index = get_movie_index(movie_of_interest)\n",
    "related = model.similar_items(movie_index)\n",
    "related\n",
    "# The output of similar_items() is not user-friendly. We'll need to use our get_movie_title() function to interpret what our results are."
   ]
  },
  {
   "cell_type": "code",
   "execution_count": 51,
   "metadata": {},
   "outputs": [
    {
     "name": "stdout",
     "output_type": "stream",
     "text": [
      "Because you watched Forrest Gump (1994)...\n",
      "Jumanji (1995)\n"
     ]
    }
   ],
   "source": [
    "print(f\"Because you watched {movie_finder(movie_of_interest)}...\")\n",
    "for r in related:\n",
    "    recommended_title = get_movie_title(r[0])\n",
    "    if recommended_title != movie_finder(movie_of_interest):\n",
    "        print(recommended_title)"
   ]
  },
  {
   "cell_type": "code",
   "execution_count": 52,
   "metadata": {},
   "outputs": [
    {
     "name": "stdout",
     "output_type": "stream",
     "text": [
      "Number of movies rated by user 95: 168\n"
     ]
    }
   ],
   "source": [
    "# Step 5: Generating User-Item Recommendations\n",
    "\n",
    "user_id = 95\n",
    "\n",
    "user_ratings = ratings[ratings['userId']==user_id].merge(movies[['movieId', 'title']])\n",
    "user_ratings = user_ratings.sort_values('rating', ascending=False)\n",
    "print(f\"Number of movies rated by user {user_id}: {user_ratings['movieId'].nunique()}\")"
   ]
  },
  {
   "cell_type": "code",
   "execution_count": 53,
   "metadata": {},
   "outputs": [
    {
     "data": {
      "text/html": [
       "<div>\n",
       "<style scoped>\n",
       "    .dataframe tbody tr th:only-of-type {\n",
       "        vertical-align: middle;\n",
       "    }\n",
       "\n",
       "    .dataframe tbody tr th {\n",
       "        vertical-align: top;\n",
       "    }\n",
       "\n",
       "    .dataframe thead th {\n",
       "        text-align: right;\n",
       "    }\n",
       "</style>\n",
       "<table border=\"1\" class=\"dataframe\">\n",
       "  <thead>\n",
       "    <tr style=\"text-align: right;\">\n",
       "      <th></th>\n",
       "      <th>userId</th>\n",
       "      <th>movieId</th>\n",
       "      <th>rating</th>\n",
       "      <th>timestamp</th>\n",
       "      <th>title</th>\n",
       "    </tr>\n",
       "  </thead>\n",
       "  <tbody>\n",
       "    <tr>\n",
       "      <th>24</th>\n",
       "      <td>95</td>\n",
       "      <td>1089</td>\n",
       "      <td>5.0</td>\n",
       "      <td>1048382826</td>\n",
       "      <td>Reservoir Dogs (1992)</td>\n",
       "    </tr>\n",
       "    <tr>\n",
       "      <th>34</th>\n",
       "      <td>95</td>\n",
       "      <td>1221</td>\n",
       "      <td>5.0</td>\n",
       "      <td>1043340018</td>\n",
       "      <td>Godfather: Part II, The (1974)</td>\n",
       "    </tr>\n",
       "    <tr>\n",
       "      <th>83</th>\n",
       "      <td>95</td>\n",
       "      <td>3019</td>\n",
       "      <td>5.0</td>\n",
       "      <td>1043340112</td>\n",
       "      <td>Drugstore Cowboy (1989)</td>\n",
       "    </tr>\n",
       "    <tr>\n",
       "      <th>26</th>\n",
       "      <td>95</td>\n",
       "      <td>1175</td>\n",
       "      <td>5.0</td>\n",
       "      <td>1105400882</td>\n",
       "      <td>Delicatessen (1991)</td>\n",
       "    </tr>\n",
       "    <tr>\n",
       "      <th>27</th>\n",
       "      <td>95</td>\n",
       "      <td>1196</td>\n",
       "      <td>5.0</td>\n",
       "      <td>1043340018</td>\n",
       "      <td>Star Wars: Episode V - The Empire Strikes Back...</td>\n",
       "    </tr>\n",
       "  </tbody>\n",
       "</table>\n",
       "</div>"
      ],
      "text/plain": [
       "    userId  movieId  rating   timestamp  \\\n",
       "24      95     1089     5.0  1048382826   \n",
       "34      95     1221     5.0  1043340018   \n",
       "83      95     3019     5.0  1043340112   \n",
       "26      95     1175     5.0  1105400882   \n",
       "27      95     1196     5.0  1043340018   \n",
       "\n",
       "                                                title  \n",
       "24                              Reservoir Dogs (1992)  \n",
       "34                     Godfather: Part II, The (1974)  \n",
       "83                            Drugstore Cowboy (1989)  \n",
       "26                                Delicatessen (1991)  \n",
       "27  Star Wars: Episode V - The Empire Strikes Back...  "
      ]
     },
     "execution_count": 53,
     "metadata": {},
     "output_type": "execute_result"
    }
   ],
   "source": [
    "user_ratings = ratings[ratings['userId']==user_id].merge(movies[['movieId', 'title']])\n",
    "user_ratings = user_ratings.sort_values('rating', ascending=False)\n",
    "top_5 = user_ratings.head()\n",
    "top_5"
   ]
  },
  {
   "cell_type": "code",
   "execution_count": 54,
   "metadata": {},
   "outputs": [
    {
     "data": {
      "text/html": [
       "<div>\n",
       "<style scoped>\n",
       "    .dataframe tbody tr th:only-of-type {\n",
       "        vertical-align: middle;\n",
       "    }\n",
       "\n",
       "    .dataframe tbody tr th {\n",
       "        vertical-align: top;\n",
       "    }\n",
       "\n",
       "    .dataframe thead th {\n",
       "        text-align: right;\n",
       "    }\n",
       "</style>\n",
       "<table border=\"1\" class=\"dataframe\">\n",
       "  <thead>\n",
       "    <tr style=\"text-align: right;\">\n",
       "      <th></th>\n",
       "      <th>userId</th>\n",
       "      <th>movieId</th>\n",
       "      <th>rating</th>\n",
       "      <th>timestamp</th>\n",
       "      <th>title</th>\n",
       "    </tr>\n",
       "  </thead>\n",
       "  <tbody>\n",
       "    <tr>\n",
       "      <th>93</th>\n",
       "      <td>95</td>\n",
       "      <td>3690</td>\n",
       "      <td>2.0</td>\n",
       "      <td>1043339908</td>\n",
       "      <td>Porky's Revenge (1985)</td>\n",
       "    </tr>\n",
       "    <tr>\n",
       "      <th>122</th>\n",
       "      <td>95</td>\n",
       "      <td>5283</td>\n",
       "      <td>2.0</td>\n",
       "      <td>1043339957</td>\n",
       "      <td>National Lampoon's Van Wilder (2002)</td>\n",
       "    </tr>\n",
       "    <tr>\n",
       "      <th>100</th>\n",
       "      <td>95</td>\n",
       "      <td>4015</td>\n",
       "      <td>2.0</td>\n",
       "      <td>1043339957</td>\n",
       "      <td>Dude, Where's My Car? (2000)</td>\n",
       "    </tr>\n",
       "    <tr>\n",
       "      <th>164</th>\n",
       "      <td>95</td>\n",
       "      <td>7373</td>\n",
       "      <td>1.0</td>\n",
       "      <td>1105401093</td>\n",
       "      <td>Hellboy (2004)</td>\n",
       "    </tr>\n",
       "    <tr>\n",
       "      <th>109</th>\n",
       "      <td>95</td>\n",
       "      <td>4732</td>\n",
       "      <td>1.0</td>\n",
       "      <td>1043339283</td>\n",
       "      <td>Bubble Boy (2001)</td>\n",
       "    </tr>\n",
       "  </tbody>\n",
       "</table>\n",
       "</div>"
      ],
      "text/plain": [
       "     userId  movieId  rating   timestamp                                 title\n",
       "93       95     3690     2.0  1043339908                Porky's Revenge (1985)\n",
       "122      95     5283     2.0  1043339957  National Lampoon's Van Wilder (2002)\n",
       "100      95     4015     2.0  1043339957          Dude, Where's My Car? (2000)\n",
       "164      95     7373     1.0  1105401093                        Hellboy (2004)\n",
       "109      95     4732     1.0  1043339283                     Bubble Boy (2001)"
      ]
     },
     "execution_count": 54,
     "metadata": {},
     "output_type": "execute_result"
    }
   ],
   "source": [
    "bottom_5 = user_ratings[user_ratings['rating']<3].tail()\n",
    "bottom_5"
   ]
  },
  {
   "cell_type": "code",
   "execution_count": 55,
   "metadata": {},
   "outputs": [
    {
     "ename": "ValueError",
     "evalue": "user_items must contain 1 row for every user in userids",
     "output_type": "error",
     "traceback": [
      "\u001b[31m---------------------------------------------------------------------------\u001b[39m",
      "\u001b[31mValueError\u001b[39m                                Traceback (most recent call last)",
      "\u001b[36mCell\u001b[39m\u001b[36m \u001b[39m\u001b[32mIn[55]\u001b[39m\u001b[32m, line 4\u001b[39m\n\u001b[32m      1\u001b[39m X_t = X.T.tocsr()\n\u001b[32m      3\u001b[39m user_idx = user_mapper[user_id]\n\u001b[32m----> \u001b[39m\u001b[32m4\u001b[39m recommendations = \u001b[43mmodel\u001b[49m\u001b[43m.\u001b[49m\u001b[43mrecommend\u001b[49m\u001b[43m(\u001b[49m\u001b[43muser_idx\u001b[49m\u001b[43m,\u001b[49m\u001b[43m \u001b[49m\u001b[43mX_t\u001b[49m\u001b[43m)\u001b[49m\n\u001b[32m      5\u001b[39m recommendations\n",
      "\u001b[36mFile \u001b[39m\u001b[32m~/Library/CloudStorage/OneDrive-Partners/Documents/GitHub/Recommendation-System/venv/lib/python3.13/site-packages/implicit/cpu/matrix_factorization_base.py:49\u001b[39m, in \u001b[36mMatrixFactorizationBase.recommend\u001b[39m\u001b[34m(self, userid, user_items, N, filter_already_liked_items, filter_items, recalculate_user, items)\u001b[39m\n\u001b[32m     47\u001b[39m     user_count = \u001b[32m1\u001b[39m \u001b[38;5;28;01mif\u001b[39;00m np.isscalar(userid) \u001b[38;5;28;01melse\u001b[39;00m \u001b[38;5;28mlen\u001b[39m(userid)\n\u001b[32m     48\u001b[39m     \u001b[38;5;28;01mif\u001b[39;00m user_items.shape[\u001b[32m0\u001b[39m] != user_count:\n\u001b[32m---> \u001b[39m\u001b[32m49\u001b[39m         \u001b[38;5;28;01mraise\u001b[39;00m \u001b[38;5;167;01mValueError\u001b[39;00m(\u001b[33m\"\u001b[39m\u001b[33muser_items must contain 1 row for every user in userids\u001b[39m\u001b[33m\"\u001b[39m)\n\u001b[32m     51\u001b[39m user = \u001b[38;5;28mself\u001b[39m._user_factor(userid, user_items, recalculate_user)\n\u001b[32m     53\u001b[39m item_factors = \u001b[38;5;28mself\u001b[39m.item_factors\n",
      "\u001b[31mValueError\u001b[39m: user_items must contain 1 row for every user in userids"
     ]
    }
   ],
   "source": [
    "X_t = X.T.tocsr()\n",
    "\n",
    "user_idx = user_mapper[user_id]\n",
    "recommendations = model.recommend(user_idx, X_t)\n",
    "recommendations"
   ]
  },
  {
   "cell_type": "code",
   "execution_count": 39,
   "metadata": {},
   "outputs": [
    {
     "ename": "NameError",
     "evalue": "name 'recommendations' is not defined",
     "output_type": "error",
     "traceback": [
      "\u001b[31m---------------------------------------------------------------------------\u001b[39m",
      "\u001b[31mNameError\u001b[39m                                 Traceback (most recent call last)",
      "\u001b[36mCell\u001b[39m\u001b[36m \u001b[39m\u001b[32mIn[39]\u001b[39m\u001b[32m, line 4\u001b[39m\n\u001b[32m      1\u001b[39m \u001b[38;5;66;03m# We can't interpret the results as is since movies are represented by their index. \u001b[39;00m\n\u001b[32m      2\u001b[39m \u001b[38;5;66;03m# We'll have to loop over the list of recommendations and get the movie title for each movie index.\u001b[39;00m\n\u001b[32m----> \u001b[39m\u001b[32m4\u001b[39m \u001b[38;5;28;01mfor\u001b[39;00m r \u001b[38;5;129;01min\u001b[39;00m \u001b[43mrecommendations\u001b[49m:\n\u001b[32m      5\u001b[39m     recommend_title = get_movie_title(r[\u001b[32m0\u001b[39m])\n\u001b[32m      6\u001b[39m     \u001b[38;5;28mprint\u001b[39m(recommended_title)\n",
      "\u001b[31mNameError\u001b[39m: name 'recommendations' is not defined"
     ]
    }
   ],
   "source": [
    "# We can't interpret the results as is since movies are represented by their index. \n",
    "# We'll have to loop over the list of recommendations and get the movie title for each movie index.\n",
    "\n",
    "for r in recommendations:\n",
    "    recommend_title = get_movie_title(r[0])\n",
    "    print(recommended_title)"
   ]
  }
 ],
 "metadata": {
  "kernelspec": {
   "display_name": "Python (recommendation-system)",
   "language": "python",
   "name": "rec-sys-env"
  },
  "language_info": {
   "codemirror_mode": {
    "name": "ipython",
    "version": 3
   },
   "file_extension": ".py",
   "mimetype": "text/x-python",
   "name": "python",
   "nbconvert_exporter": "python",
   "pygments_lexer": "ipython3",
   "version": "3.13.1"
  }
 },
 "nbformat": 4,
 "nbformat_minor": 2
}
